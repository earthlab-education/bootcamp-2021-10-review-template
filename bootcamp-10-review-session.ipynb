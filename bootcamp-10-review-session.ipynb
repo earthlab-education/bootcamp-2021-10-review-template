{
 "cells": [
  {
   "cell_type": "markdown",
   "metadata": {
    "deletable": false,
    "editable": false,
    "nbgrader": {
     "cell_type": "markdown",
     "checksum": "a88131b8ae5bfb4f3c6b5ede1eaa81f2",
     "grade": false,
     "grade_id": "overview",
     "locked": true,
     "schema_version": 3,
     "solution": false,
     "task": false
    }
   },
   "source": [
    "# Review Session\n",
    "\n",
    "This is an optional assignment that will be included in your average if it improves your grade."
   ]
  },
  {
   "cell_type": "code",
   "execution_count": null,
   "metadata": {
    "deletable": false,
    "editable": false,
    "nbgrader": {
     "cell_type": "code",
     "checksum": "8143c1253a9392ac32afd28843d3bfee",
     "grade": false,
     "grade_id": "core-imports",
     "locked": true,
     "schema_version": 3,
     "solution": false,
     "task": false
    }
   },
   "outputs": [],
   "source": [
    "# DO NOT MODIFY THIS CELL\n",
    "# Core imports needed for grading\n",
    "import matplotcheck.notebook as nb\n",
    "from matplotcheck.base import PlotTester\n",
    "import matplotcheck.autograde as ag\n",
    "import matplotlib\n",
    "import numpy as np"
   ]
  },
  {
   "cell_type": "markdown",
   "metadata": {
    "deletable": false,
    "editable": false,
    "nbgrader": {
     "cell_type": "markdown",
     "checksum": "df0b725422d0a15abe425fd8270d432a",
     "grade": false,
     "grade_id": "question-student-imports",
     "locked": true,
     "schema_version": 3,
     "solution": false,
     "task": false
    }
   },
   "source": [
    "## Import packages\n",
    "\n",
    "Import the packages you will need to:\n",
    "* build cross-platform paths\n",
    "* find files using a pattern\n",
    "* download data using earthpy\n",
    "* create plots\n",
    "* work with numpy arrays\n",
    "* work with pandas DataFrames\n",
    "* use the seaborn plot options (use alias sns)\n",
    "\n",
    "**BONUS: set the plot theme to the seaborn default**"
   ]
  },
  {
   "cell_type": "code",
   "execution_count": null,
   "metadata": {
    "deletable": false,
    "nbgrader": {
     "cell_type": "code",
     "checksum": "20489880accefdb27a2f10ca8cc97835",
     "grade": false,
     "grade_id": "student-imports-answer",
     "locked": false,
     "schema_version": 3,
     "solution": true,
     "task": false
    }
   },
   "outputs": [],
   "source": [
    "# YOUR CODE HERE\n",
    "raise NotImplementedError()"
   ]
  },
  {
   "cell_type": "code",
   "execution_count": null,
   "metadata": {
    "deletable": false,
    "editable": false,
    "nbgrader": {
     "cell_type": "code",
     "checksum": "5283ecc9ad20cfc04f8e2a6e3d504db2",
     "grade": true,
     "grade_id": "student-imports-tests",
     "locked": true,
     "points": 7,
     "schema_version": 3,
     "solution": false,
     "task": false
    }
   },
   "outputs": [],
   "source": [
    "# Test package imports - DO NOT MODIFY THIS CELL!\n",
    "import_answer_points = 0\n",
    "\n",
    "try:\n",
    "    os.getcwd()\n",
    "    print(\"\\u2705 Great work! The os module has imported correctly!\")\n",
    "    import_answer_points += 1\n",
    "except NameError:\n",
    "    print(\"\\u274C Oops make sure that the os package is imported.\")\n",
    "    \n",
    "try:\n",
    "    files = glob('~')\n",
    "    print(\"\\u2705 Great work! The glob module has imported correctly!\")\n",
    "    import_answer_points += 1\n",
    "except NameError:\n",
    "    print(\"\\u274C Oops make sure that the glob package is imported.\")\n",
    "\n",
    "try:\n",
    "    data = et.io\n",
    "    print(\"\\u2705 Great work! The earthpy package has imported correctly!\")\n",
    "    import_answer_points += 1\n",
    "except NameError:\n",
    "    print((\"\\u274C Oops make sure that the earthpy package is imported \"\n",
    "           \"using the alias et.\"))\n",
    "\n",
    "try:\n",
    "    plt.show()\n",
    "    print(\"\\u2705 Nice! matplotlib.pyplot has been imported as plt!\")\n",
    "    import_answer_points += 1\n",
    "except NameError:\n",
    "    print((\"matplotlib.pyplot has not been imported as plt, \"\n",
    "           \"please make sure to import is properly.\"))\n",
    "    \n",
    "try:\n",
    "    np.nan\n",
    "    print(\"\\u2705 Score! Numpy has been imported as a np!\")\n",
    "    import_answer_points += 1\n",
    "except NameError:\n",
    "    print((\"\\u274C Numpy has not been imported as a np, \"\n",
    "           \"please make sure to import is properly.\"))\n",
    "\n",
    "try:\n",
    "    no_data = pd.NA\n",
    "    print(\"\\u2705 Score! Pandas has been imported as a pd!\")\n",
    "    import_answer_points += 1\n",
    "except NameError:\n",
    "    print((\"\\u274C Pandas has not been imported as a pd, \"\n",
    "           \"please make sure to import is properly.\"))\n",
    "\n",
    "try:\n",
    "    sns.set_theme()\n",
    "    print(\"\\u2705 Score! Seaborn has been imported as sns!\")\n",
    "    import_answer_points += 1\n",
    "except NameError:\n",
    "    print((\"\\u274C Seaborn has not been imported as sns, \"\n",
    "           \"please make sure to import is properly.\"))\n",
    "    \n",
    "print(\"\\n \\u27A1 You received {} out of 6 points.\".format(\n",
    "    import_answer_points))\n",
    "\n",
    "import_answer_points"
   ]
  },
  {
   "cell_type": "markdown",
   "metadata": {
    "deletable": false,
    "editable": false,
    "nbgrader": {
     "cell_type": "markdown",
     "checksum": "89782ad4037af7d9e04f2f56b40f169a",
     "grade": false,
     "grade_id": "question-student-download",
     "locked": true,
     "schema_version": 3,
     "solution": false,
     "task": false
    }
   },
   "source": [
    "## Set up data directory and path and download ca-fires-yearly dataset\n",
    "\n",
    "We are using the ca-fires-yearly data for this set of exercises. Below, get set up to use this dataset by:\n",
    "* Creating the earth-analtics/data directory if it does not exist\n",
    "* Setting the data directory as the working directory\n",
    "* Downloading the ca-fires-yearly data\n",
    "\n",
    "Download url: https://ndownloader.figshare.com/files/25033508"
   ]
  },
  {
   "cell_type": "code",
   "execution_count": null,
   "metadata": {
    "deletable": false,
    "nbgrader": {
     "cell_type": "code",
     "checksum": "ba715efad79cf0d0d5a67aad32ab4d05",
     "grade": false,
     "grade_id": "student-download-answer",
     "locked": false,
     "schema_version": 3,
     "solution": true,
     "task": false
    }
   },
   "outputs": [],
   "source": [
    "# YOUR CODE HERE\n",
    "raise NotImplementedError()"
   ]
  },
  {
   "cell_type": "code",
   "execution_count": null,
   "metadata": {
    "deletable": false,
    "editable": false,
    "nbgrader": {
     "cell_type": "code",
     "checksum": "392f008fc8f86811b9757812fc4f0a22",
     "grade": true,
     "grade_id": "student-working-dir-tests",
     "locked": true,
     "points": 5,
     "schema_version": 3,
     "solution": false,
     "task": false
    }
   },
   "outputs": [],
   "source": [
    "# DO NOT MODIFY THIS CELL\n",
    "\n",
    "# Tests that the working directory is set to earth-analytics/data\n",
    "# And that the data download directory exists\n",
    "\n",
    "path = os.path.normpath(os.getcwd())\n",
    "student_wd_parts = path.split(os.sep)\n",
    "\n",
    "wd_points = 0\n",
    "\n",
    "if student_wd_parts[-2:] == ['earth-analytics', 'data']:\n",
    "    print((\"\\u2705 Great - it looks like your working directory is set \"\n",
    "           \"correctly to .../earth-analytics/data\"))\n",
    "    wd_points += 3\n",
    "else:\n",
    "    print((\"\\u274C Oops, the autograder will not run unless your working \"\n",
    "           \"directory is set to earth-analytics/data\"))\n",
    "\n",
    "# Tests that California Fires Dataset is downloaded\n",
    "ca_fires_yearly_path = os.path.join(\n",
    "    \"earthpy-downloads\", \n",
    "    \"ca-fires-yearly\")\n",
    "\n",
    "if os.path.exists(ca_fires_yearly_path):\n",
    "    print((\"\\u2705 Great - it looks like you successfully downloaded the \"\n",
    "           \"ca-fires-yearly dataset to .../earthpy-downloads/ca-fires-yearly\"))\n",
    "    wd_points += 2\n",
    "else:\n",
    "    print((\"\\u274C Oops, you still need to download the ca-fires-yearly data\"))\n",
    "    \n",
    "print((\"\\n \\u27A1 You received {} out of 5 points for setting your working \"\n",
    "       \"directory.\").format(wd_points))\n",
    "\n",
    "wd_points"
   ]
  },
  {
   "cell_type": "code",
   "execution_count": null,
   "metadata": {
    "deletable": false,
    "nbgrader": {
     "cell_type": "code",
     "checksum": "f8ea381fa37770d639c8478b0dcf3c22",
     "grade": true,
     "grade_id": "student-working-dir-test-manual",
     "locked": false,
     "points": 2,
     "schema_version": 3,
     "solution": true,
     "task": false
    }
   },
   "outputs": [],
   "source": [
    "# YOUR CODE HERE\n",
    "raise NotImplementedError()"
   ]
  },
  {
   "cell_type": "markdown",
   "metadata": {
    "deletable": false,
    "editable": false,
    "nbgrader": {
     "cell_type": "markdown",
     "checksum": "a26fafd5534f60d6e838b362b7568d4c",
     "grade": false,
     "grade_id": "student-numfires-question",
     "locked": true,
     "schema_version": 3,
     "solution": false,
     "task": false
    }
   },
   "source": [
    "## Challenge 1: Calculate the number of fires between 1992-2015 greater than 100 acres\n",
    "\n",
    "Simple loop: go through files in the 1992-2015-gt-100-acres directory in your CA yearly fires directory and calculate the number of total fires by adding up the number of fires (rows) in each file\n",
    "\n",
    "If you are going to calculate a value in a loop - remember to set up a variable and initialize it.\n",
    "\n",
    "**Call your variable with the number of total fires at the end of the cell**"
   ]
  },
  {
   "cell_type": "code",
   "execution_count": null,
   "metadata": {
    "deletable": false,
    "nbgrader": {
     "cell_type": "code",
     "checksum": "4818048964b42d05cb7718dc49cf4b69",
     "grade": false,
     "grade_id": "student-numfires-answer",
     "locked": false,
     "schema_version": 3,
     "solution": true,
     "task": false
    }
   },
   "outputs": [],
   "source": [
    "# YOUR CODE HERE\n",
    "raise NotImplementedError()"
   ]
  },
  {
   "cell_type": "code",
   "execution_count": null,
   "metadata": {
    "deletable": false,
    "editable": false,
    "nbgrader": {
     "cell_type": "code",
     "checksum": "832ff26427c534089d145a9796e14513",
     "grade": true,
     "grade_id": "student-numfires-test",
     "locked": true,
     "points": 0,
     "schema_version": 3,
     "solution": false,
     "task": false
    }
   },
   "outputs": [],
   "source": [
    "# DO NOT MODIFY THIS CELL\n",
    "# Testing to see if the number of fires is an integer\n",
    "\n",
    "student_num_fires = _\n",
    "\n",
    "if isinstance(student_num_fires, int):\n",
    "    print(\"\\u2705 Result is an integer, good job!\")\n",
    "else:\n",
    "    print(\"\\u274C Result should be an integer.\")"
   ]
  },
  {
   "cell_type": "code",
   "execution_count": null,
   "metadata": {
    "deletable": false,
    "editable": false,
    "nbgrader": {
     "cell_type": "code",
     "checksum": "2de8e04af4558e2294124c4f16f36d19",
     "grade": true,
     "grade_id": "student-numfires-test-hidden",
     "locked": true,
     "points": 5,
     "schema_version": 3,
     "solution": false,
     "task": false
    }
   },
   "outputs": [],
   "source": [
    "# DO NOT MODIFY THIS CELL"
   ]
  },
  {
   "cell_type": "markdown",
   "metadata": {
    "deletable": false,
    "editable": false,
    "nbgrader": {
     "cell_type": "markdown",
     "checksum": "23014babad867f393a428c05e81b5e81",
     "grade": false,
     "grade_id": "student-concat-question",
     "locked": true,
     "schema_version": 3,
     "solution": false,
     "task": false
    }
   },
   "source": [
    "## Challenge 2:  Concatenate annual files into single dataframe\n",
    "\n",
    "Process a series of dataframes and extract the year value from the file name, storing as an **integer column** in the dataframe. **Set the DataFrame Index as the fire unique id (fd_unq_id), and sort by the index.**"
   ]
  },
  {
   "cell_type": "code",
   "execution_count": null,
   "metadata": {
    "deletable": false,
    "nbgrader": {
     "cell_type": "code",
     "checksum": "ecf58e0bf06a1071780bcd67d772cff8",
     "grade": false,
     "grade_id": "student-concat-answer",
     "locked": false,
     "schema_version": 3,
     "solution": true,
     "task": false
    }
   },
   "outputs": [],
   "source": [
    "# YOUR CODE HERE\n",
    "raise NotImplementedError()"
   ]
  },
  {
   "cell_type": "code",
   "execution_count": null,
   "metadata": {
    "deletable": false,
    "editable": false,
    "nbgrader": {
     "cell_type": "code",
     "checksum": "2c0e3938f0074262817f09510050253c",
     "grade": true,
     "grade_id": "student-concat-test",
     "locked": true,
     "points": 0,
     "schema_version": 3,
     "solution": false,
     "task": false
    }
   },
   "outputs": [],
   "source": [
    "# DO NOT MODIFY THIS CELL\n",
    "# Testing to make sure the result is a dataframe\n",
    "# With the fire id as the index\n",
    "# And an integer year column\n",
    "\n",
    "student_dataframe_all_fires = _\n",
    "\n",
    "\n",
    "if isinstance(student_dataframe_all_fires, pd.DataFrame):\n",
    "    print(\"\\u2705 Object created is a dataframe, good job!\")\n",
    "else:\n",
    "    print(\"\\u274C Object created is not a dataframe.\")\n",
    "\n",
    "if student_dataframe_all_fires.index.name == 'fd_unq_id':\n",
    "    print(\"\\u2705 Successfully read in the fire id column as the index!\")\n",
    "else:\n",
    "    print(\"\\u274C The index is not set to the fire id column.\")\n",
    "    \n",
    "if pd.api.types.is_integer_dtype(student_dataframe_all_fires.year):\n",
    "    print(\"\\u2705 Successfully created an integer year column!\")\n",
    "else:\n",
    "    print(\"\\u274C The year is not an integer column\")"
   ]
  },
  {
   "cell_type": "code",
   "execution_count": null,
   "metadata": {
    "deletable": false,
    "editable": false,
    "nbgrader": {
     "cell_type": "code",
     "checksum": "77109ee2cc750365909c93ab49cd2f7d",
     "grade": true,
     "grade_id": "student-concat-test-hidden",
     "locked": true,
     "points": 10,
     "schema_version": 3,
     "solution": false,
     "task": false
    }
   },
   "outputs": [],
   "source": [
    "# DO NOT MODIFY THIS CELL"
   ]
  },
  {
   "cell_type": "markdown",
   "metadata": {
    "deletable": false,
    "editable": false,
    "nbgrader": {
     "cell_type": "markdown",
     "checksum": "3d518af014be8ea44f6b6fc8d1ee0df4",
     "grade": false,
     "grade_id": "student-index-question",
     "locked": true,
     "points": 0,
     "schema_version": 3,
     "solution": false,
     "task": true
    }
   },
   "source": [
    "In the cell below, answer the following in a **numbered list**:\n",
    "1. What are the advantages of using the unique id as an index instead of the year as you did in previous assignments?\n",
    "2. What are the advantages of using sorted year as the index?"
   ]
  },
  {
   "cell_type": "markdown",
   "metadata": {
    "deletable": false,
    "nbgrader": {
     "cell_type": "markdown",
     "checksum": "9f4bba69a44ebe37b87d834d3a27b4b6",
     "grade": true,
     "grade_id": "student-index-answer",
     "locked": false,
     "points": 6,
     "schema_version": 3,
     "solution": true,
     "task": false
    }
   },
   "source": [
    "YOUR ANSWER HERE"
   ]
  },
  {
   "cell_type": "markdown",
   "metadata": {
    "deletable": false,
    "editable": false,
    "nbgrader": {
     "cell_type": "markdown",
     "checksum": "3820fe8ca3ab9a0f29069bcc48c65fb5",
     "grade": false,
     "grade_id": "student-group-question",
     "locked": true,
     "schema_version": 3,
     "solution": false,
     "task": false
    }
   },
   "source": [
    "## Challenge 3: Group and aggregate\n",
    "\n",
    "Use the pandas DataFrame method `.groupby` to take the **yearly maximum** and **monthly mean** fire size, and then call both dataframes, e.g.:\n",
    "\n",
    "max_fire_size_yearly_df, mean_fire_size_monthly_df\n",
    "\n",
    "**Use the month_num column to take the monthly mean so that the DataFrame will be in the right order**"
   ]
  },
  {
   "cell_type": "code",
   "execution_count": null,
   "metadata": {
    "deletable": false,
    "nbgrader": {
     "cell_type": "code",
     "checksum": "89bd7c533a19219f58a19ff7f080856b",
     "grade": false,
     "grade_id": "student-group-answer",
     "locked": false,
     "schema_version": 3,
     "solution": true,
     "task": false
    }
   },
   "outputs": [],
   "source": [
    "# YOUR CODE HERE\n",
    "raise NotImplementedError()"
   ]
  },
  {
   "cell_type": "code",
   "execution_count": null,
   "metadata": {
    "deletable": false,
    "editable": false,
    "nbgrader": {
     "cell_type": "code",
     "checksum": "4e76c1d08dfd1f4dd5acea1253a92016",
     "grade": true,
     "grade_id": "student-group-test",
     "locked": true,
     "points": 0,
     "schema_version": 3,
     "solution": false,
     "task": false
    }
   },
   "outputs": [],
   "source": [
    "# DO NOT MODIFY THIS CELL\n",
    "\n",
    "# Tests if the results are DataFrames\n",
    "# Makes sure that the yearly and monthly results are the right length\n",
    "\n",
    "student_max_yearly, student_mean_monthly = _\n",
    "\n",
    "if isinstance(student_max_yearly, pd.DataFrame):\n",
    "    print(\"\\u2705 First object created is a dataframe, good job!\")\n",
    "else:\n",
    "    print(\"\\u274C First object created is not a dataframe.\")\n",
    "    \n",
    "\n",
    "if len(student_max_yearly)==24:\n",
    "    print(\"\\u2705 First object created is a yearly summary, good job!\")\n",
    "else:\n",
    "    print(\"\\u274C First object created is not a yearly summary.\") \n",
    "    \n",
    "if isinstance(student_mean_monthly, pd.DataFrame):\n",
    "    print(\"\\u2705 Second object created is a dataframe, good job!\")\n",
    "else:\n",
    "    print(\"\\u274C Second object created is not a dataframe.\")\n",
    "    \n",
    "if len(student_mean_monthly)==12:\n",
    "    print(\"\\u2705 Second object created is a monthly summary, good job!\")\n",
    "else:\n",
    "    print(\"\\u274C Second object created is not a monthly summary.\") "
   ]
  },
  {
   "cell_type": "code",
   "execution_count": null,
   "metadata": {
    "deletable": false,
    "editable": false,
    "nbgrader": {
     "cell_type": "code",
     "checksum": "b89c64a27b6587e57a218870b379dd36",
     "grade": true,
     "grade_id": "student-group-test-hidden",
     "locked": true,
     "points": 6,
     "schema_version": 3,
     "solution": false,
     "task": false
    }
   },
   "outputs": [],
   "source": [
    "# DO NOT MODIFY THIS CELL"
   ]
  },
  {
   "cell_type": "markdown",
   "metadata": {
    "deletable": false,
    "editable": false,
    "nbgrader": {
     "cell_type": "markdown",
     "checksum": "3d15b840ae4a0d25835c1e099ecab8b1",
     "grade": false,
     "grade_id": "student-addcols-question",
     "locked": true,
     "schema_version": 3,
     "solution": false,
     "task": false
    }
   },
   "source": [
    "## Challenge 4: Add human ignition flag and season fields\n",
    "\n",
    "Add two columns to your dataframe:\n",
    "* A boolean `human_ignition` column that is true if the cause is one of Arson, Smoking, Equipment Use, Campfire, Powerline, Railroad, or Debris Burning\n",
    "* An ordered Categorical `season` column using MAM/JJA/SON/DJF seasons call `pd.Categorical()` on the resulting column. Spring should be the first season\n",
    "\n",
    "BONUS: Try to create the `season` column by writing your own `month_to_season` function and applying it to the month or month_num column AND/OR create a DateTime column and use the dt.season attribute.\n",
    "\n",
    "**Call your modified dataframe at the end of the cell**"
   ]
  },
  {
   "cell_type": "code",
   "execution_count": null,
   "metadata": {
    "deletable": false,
    "nbgrader": {
     "cell_type": "code",
     "checksum": "01fc0c40c23b5339a1d535dd078045ed",
     "grade": false,
     "grade_id": "student-addcols-answer",
     "locked": false,
     "schema_version": 3,
     "solution": true,
     "task": false
    }
   },
   "outputs": [],
   "source": [
    "# YOUR CODE HERE\n",
    "raise NotImplementedError()"
   ]
  },
  {
   "cell_type": "code",
   "execution_count": null,
   "metadata": {
    "deletable": false,
    "editable": false,
    "nbgrader": {
     "cell_type": "code",
     "checksum": "54a163a18fcd7c4a33f4daa0edb8ad93",
     "grade": true,
     "grade_id": "student-addcols-test",
     "locked": true,
     "points": 0,
     "schema_version": 3,
     "solution": false,
     "task": false
    }
   },
   "outputs": [],
   "source": [
    "# DO NOT MODIFY THIS CELL\n",
    "\n",
    "# Tests if the result is a DataFrame with human_ignition and season columns\n",
    "\n",
    "student_add_columns_df = _\n",
    "\n",
    "if isinstance(student_add_columns_df, pd.DataFrame):\n",
    "    print(\"\\u2705 Object is a dataframe, good job!\")\n",
    "else:\n",
    "    print(\"\\u274C Object is not a dataframe.\")\n",
    "    \n",
    "if 'human_ignition' in student_add_columns_df.columns:\n",
    "    print(\"\\u2705 Dataframe has a human_ignition column, good job!\")\n",
    "else:\n",
    "    print(\"\\u274C Dataframe is missing a human_ignition column.\")\n",
    "    \n",
    "if 'season' in student_add_columns_df.columns:\n",
    "    print(\"\\u2705 Dataframe has a season column, good job!\")\n",
    "else:\n",
    "    print(\"\\u274C Dataframe is missing a season column.\")"
   ]
  },
  {
   "cell_type": "code",
   "execution_count": null,
   "metadata": {
    "deletable": false,
    "editable": false,
    "nbgrader": {
     "cell_type": "code",
     "checksum": "12655307429c3075bdba3a92a09bafec",
     "grade": true,
     "grade_id": "student-addcols-test-hidden",
     "locked": true,
     "points": 10,
     "schema_version": 3,
     "solution": false,
     "task": false
    }
   },
   "outputs": [],
   "source": [
    "# DO NOT MODIFY THIS CELL\n"
   ]
  },
  {
   "cell_type": "markdown",
   "metadata": {
    "deletable": false,
    "editable": false,
    "nbgrader": {
     "cell_type": "markdown",
     "checksum": "e8bae4b731779fbed792d69aed7f6d90",
     "grade": false,
     "grade_id": "student-copy-question",
     "locked": true,
     "schema_version": 3,
     "solution": false,
     "task": false
    }
   },
   "source": [
    "## Challenge 5: Making a copy of a dataframe versus a slice\n",
    "\n",
    "If you want to make changes to the structure of your dataframe and you are only working with a slice, Pandas will give you a warning message. If this is what you truly want to do, you can use the copy command to make a new copy of the subset of rows/columns you are working with. Here we just want to work on a the subset of the fires that are human-caused. Because we created a copy, we can now link in other table data and manipulate it. You can see that this copy is smaller, but it is also a completely new copy of the data. Any changes to human fires will not affect the original dataframe.\n",
    "\n",
    "Try this out by writing code to do the following:\n",
    "* Make a copy of just the rows flagged as human_ignition\n",
    "* Convert fire_name to title case\n",
    "* Call the first 5 rows of the fire_name column for both the original and the copy and note the difference"
   ]
  },
  {
   "cell_type": "code",
   "execution_count": null,
   "metadata": {
    "deletable": false,
    "nbgrader": {
     "cell_type": "code",
     "checksum": "efb5a33a8faa407e2a37f0171f2f190c",
     "grade": true,
     "grade_id": "student-copy-answer",
     "locked": false,
     "points": 5,
     "schema_version": 3,
     "solution": true,
     "task": false
    }
   },
   "outputs": [],
   "source": [
    "# YOUR CODE HERE\n",
    "raise NotImplementedError()"
   ]
  },
  {
   "cell_type": "markdown",
   "metadata": {
    "deletable": false,
    "editable": false,
    "nbgrader": {
     "cell_type": "markdown",
     "checksum": "f201079d278b5cf0be8a7e94d406680d",
     "grade": false,
     "grade_id": "student-loop-question",
     "locked": true,
     "schema_version": 3,
     "solution": false,
     "task": false
    }
   },
   "source": [
    "## Challenge 6: looping through nested directories\n",
    "\n",
    "Loop through nested directories to create a data catalog of the \"ca-fires-yearly\" dataset with the following specifications:\n",
    "* The data catalog should be a DataFrame with the following columns:\n",
    "  * The `dataset` column should contain the name of the directory you are searching, such as \"monthly-mean-size\"\n",
    "  * The `file_name` column should contain strings of the basename only of each file in alphabetical (and chronological) order\n",
    "  * The `year` column should be an integer column of the year extracted from the file name\n",
    "  * The `file_rows` column should contain the number of rows in the corresponding file\n",
    "  * The `file_columns` columns should contain the number of columns in the corresponding file\n",
    "  \n",
    "HINT: There are a couple of ways to create DataFrames from scratch. [Check out the pandas documentation for examples.](https://pandas.pydata.org/docs/reference/api/pandas.DataFrame.html)\n",
    "\n",
    "**Call your data catalog dataframe at the end of the cell"
   ]
  },
  {
   "cell_type": "code",
   "execution_count": null,
   "metadata": {
    "deletable": false,
    "nbgrader": {
     "cell_type": "code",
     "checksum": "e159c7c400cb62598b8f4ab8530a166a",
     "grade": false,
     "grade_id": "student-loop-answer",
     "locked": false,
     "schema_version": 3,
     "solution": true,
     "task": false
    }
   },
   "outputs": [],
   "source": [
    "# YOUR CODE HERE\n",
    "raise NotImplementedError()"
   ]
  },
  {
   "cell_type": "code",
   "execution_count": null,
   "metadata": {
    "deletable": false,
    "editable": false,
    "nbgrader": {
     "cell_type": "code",
     "checksum": "a685ecdb729cfb9bcaad896f2375f52d",
     "grade": true,
     "grade_id": "student-loop-test",
     "locked": true,
     "points": 0,
     "schema_version": 3,
     "solution": false,
     "task": false
    }
   },
   "outputs": [],
   "source": [
    "# DO NOT MODIFY THIS CELL\n",
    "\n",
    "# Tests if the result is a DataFrame with the correct columns\n",
    "\n",
    "student_catalog_df = _\n",
    "\n",
    "if isinstance(student_catalog_df, pd.DataFrame):\n",
    "    print(\"\\u2705 Object is a dataframe, good job!\")\n",
    "else:\n",
    "    print(\"\\u274C Object is not a dataframe.\")\n",
    "    \n",
    "if all([col in student_catalog_df.columns.values\n",
    "        for col \n",
    "        in ['dataset', 'file_name', 'year', 'file_rows', 'file_columns']]):\n",
    "    print(\"\\u2705 Dataframe has all the right columns, good job!\")\n",
    "else:\n",
    "    print(\"\\u274C Dataframe is missing required columns.\")"
   ]
  },
  {
   "cell_type": "code",
   "execution_count": null,
   "metadata": {
    "deletable": false,
    "editable": false,
    "nbgrader": {
     "cell_type": "code",
     "checksum": "f282ab9b019f1e65fb01b7b8201512c5",
     "grade": true,
     "grade_id": "student-loop-test-hidden",
     "locked": true,
     "points": 20,
     "schema_version": 3,
     "solution": false,
     "task": false
    }
   },
   "outputs": [],
   "source": [
    "# DO NOT MODIFY THIS CELL"
   ]
  },
  {
   "cell_type": "markdown",
   "metadata": {
    "deletable": false,
    "editable": false,
    "nbgrader": {
     "cell_type": "markdown",
     "checksum": "7ab11ac67672f940575e33c48601b3c3",
     "grade": false,
     "grade_id": "student-function-question",
     "locked": true,
     "schema_version": 3,
     "solution": false,
     "task": false
    }
   },
   "source": [
    "## Challenge 7: Convert challenge 5 into a function\n",
    "\n",
    "**Make sure to include a numpy-style docstring**"
   ]
  },
  {
   "cell_type": "code",
   "execution_count": null,
   "metadata": {
    "deletable": false,
    "nbgrader": {
     "cell_type": "code",
     "checksum": "8bf3da89c0b7ec8a93395d8dd216a0fa",
     "grade": true,
     "grade_id": "student-function-answer",
     "locked": false,
     "points": 5,
     "schema_version": 3,
     "solution": true,
     "task": false
    }
   },
   "outputs": [],
   "source": [
    "# YOUR CODE HERE\n",
    "raise NotImplementedError()"
   ]
  },
  {
   "cell_type": "markdown",
   "metadata": {
    "deletable": false,
    "editable": false,
    "nbgrader": {
     "cell_type": "markdown",
     "checksum": "cd80e3a7a1c6db74f7526db67b3e494f",
     "grade": false,
     "grade_id": "student-call-question",
     "locked": true,
     "schema_version": 3,
     "solution": false,
     "task": false
    }
   },
   "source": [
    "## Challenge 8: Call create_dataset_catalog\n",
    "\n",
    "Call the function you just created"
   ]
  },
  {
   "cell_type": "code",
   "execution_count": null,
   "metadata": {
    "deletable": false,
    "nbgrader": {
     "cell_type": "code",
     "checksum": "6455fc3153870b5f34431514a21b9472",
     "grade": false,
     "grade_id": "student-call-answer",
     "locked": false,
     "schema_version": 3,
     "solution": true,
     "task": false
    }
   },
   "outputs": [],
   "source": [
    "# YOUR CODE HERE\n",
    "raise NotImplementedError()"
   ]
  },
  {
   "cell_type": "code",
   "execution_count": null,
   "metadata": {
    "deletable": false,
    "editable": false,
    "nbgrader": {
     "cell_type": "code",
     "checksum": "614bf9f07ac95da297bb3563da806b58",
     "grade": true,
     "grade_id": "student-call-test-hidden",
     "locked": true,
     "points": 10,
     "schema_version": 3,
     "solution": false,
     "task": false
    }
   },
   "outputs": [],
   "source": []
  },
  {
   "cell_type": "markdown",
   "metadata": {
    "deletable": false,
    "editable": false,
    "nbgrader": {
     "cell_type": "markdown",
     "checksum": "535a1d2e3b7d5c6d5d0f4c8d7d7b5c1b",
     "grade": false,
     "grade_id": "student-help-question",
     "locked": true,
     "schema_version": 3,
     "solution": false,
     "task": false
    }
   },
   "source": [
    "## Challenge 9: Call help for catalog function\n",
    "\n",
    "Call help for the function we just created"
   ]
  },
  {
   "cell_type": "code",
   "execution_count": null,
   "metadata": {
    "deletable": false,
    "nbgrader": {
     "cell_type": "code",
     "checksum": "17105d7e8df10c923de6fa84042a9033",
     "grade": true,
     "grade_id": "student-help-answer",
     "locked": false,
     "points": 5,
     "schema_version": 3,
     "solution": true,
     "task": false
    }
   },
   "outputs": [],
   "source": [
    "# YOUR CODE HERE\n",
    "raise NotImplementedError()"
   ]
  },
  {
   "cell_type": "markdown",
   "metadata": {
    "deletable": false,
    "editable": false,
    "nbgrader": {
     "cell_type": "markdown",
     "checksum": "ee963c1ed51c14bad555fc9f221027ea",
     "grade": false,
     "grade_id": "student-loop-plot-question",
     "locked": true,
     "schema_version": 3,
     "solution": false,
     "task": false
    }
   },
   "source": [
    "## Challenge 10: plot fires by cause (homework 8 challenge 10 revisited\n",
    "\n",
    "Create a plot using a for loop and conditional statment to the following specifications:\n",
    "* Filter data to size class 'G' and 2010 or later\n",
    "* Scatter plot of fire size (y-axis) vs. season (x-axis) labeled by cause\n",
    "* Colored human causes 'red' and non-human causes 'blue'\n",
    "* Adjust the size and layout so that labels do not overlap"
   ]
  },
  {
   "cell_type": "code",
   "execution_count": null,
   "metadata": {
    "deletable": false,
    "nbgrader": {
     "cell_type": "code",
     "checksum": "e1d78140e5d4b59d74d5c6e5cb6857b0",
     "grade": true,
     "grade_id": "studnet-loop-plot-answer",
     "locked": false,
     "points": 15,
     "schema_version": 3,
     "solution": true,
     "task": false
    }
   },
   "outputs": [],
   "source": [
    "# YOUR CODE HERE\n",
    "raise NotImplementedError()"
   ]
  },
  {
   "cell_type": "markdown",
   "metadata": {
    "deletable": false,
    "editable": false,
    "nbgrader": {
     "cell_type": "markdown",
     "checksum": "927e725133106a2bdeac6d48536ae175",
     "grade": false,
     "grade_id": "student-seaborn-question",
     "locked": true,
     "schema_version": 3,
     "solution": false,
     "task": false
    }
   },
   "source": [
    "## Challenge 11: Try plotting using the seaborn stripplot instead\n",
    "This will let you see overlapping data. Set the hue to human_ignition and dodge to True. You won't need a for loop for this plot.\n",
    "\n",
    "[Check out the documentation for some differences from matplotlib, including the data parameter](http://seaborn.pydata.org/generated/seaborn.stripplot.html#seaborn.stripplot)"
   ]
  },
  {
   "cell_type": "code",
   "execution_count": null,
   "metadata": {
    "deletable": false,
    "nbgrader": {
     "cell_type": "code",
     "checksum": "f8c4ee59f2fa0230fbdc9d3896a833a3",
     "grade": true,
     "grade_id": "studnet-seaborn-answer",
     "locked": false,
     "points": 10,
     "schema_version": 3,
     "solution": true,
     "task": false
    }
   },
   "outputs": [],
   "source": [
    "# YOUR CODE HERE\n",
    "raise NotImplementedError()"
   ]
  }
 ],
 "metadata": {
  "kernelspec": {
   "display_name": "Python 3 (ipykernel)",
   "language": "python",
   "name": "python3"
  },
  "language_info": {
   "codemirror_mode": {
    "name": "ipython",
    "version": 3
   },
   "file_extension": ".py",
   "mimetype": "text/x-python",
   "name": "python",
   "nbconvert_exporter": "python",
   "pygments_lexer": "ipython3",
   "version": "3.8.12"
  }
 },
 "nbformat": 4,
 "nbformat_minor": 4
}
